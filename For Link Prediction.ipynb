{
 "cells": [
  {
   "cell_type": "code",
   "execution_count": 2,
   "id": "e557a180",
   "metadata": {},
   "outputs": [
    {
     "name": "stdout",
     "output_type": "stream",
     "text": [
      "Total Nodes: 35776\n",
      "Total Edges: 286561\n"
     ]
    }
   ],
   "source": [
    "import pandas as pd\n",
    "import networkx as nx\n",
    "\n",
    "# Read the data\n",
    "data = pd.read_csv('soc-redditHyperlinks-body.tsv', delimiter='\\t')\n",
    "\n",
    "# Create a directed multigraph using NetworkX\n",
    "G = nx.MultiDiGraph()\n",
    "community_to_id = {}\n",
    "\n",
    "# Add edges to the graph\n",
    "for _, row in data.iterrows():\n",
    "    source_community = row['SOURCE_SUBREDDIT']\n",
    "    target_community = row['TARGET_SUBREDDIT']\n",
    "    sentiment = int(row['LINK_SENTIMENT'])  # Assuming POST_LABEL contains -1 or 1\n",
    "    \n",
    "    # Add nodes if they don't exist\n",
    "    if source_community not in community_to_id:\n",
    "        source_community_id = len(community_to_id)  # Assign a unique numeric ID\n",
    "        community_to_id[source_community] = source_community_id\n",
    "        G.add_node(source_community_id, name=source_community)\n",
    "\n",
    "    if target_community not in community_to_id:\n",
    "        target_community_id = len(community_to_id)  # Assign a unique numeric ID\n",
    "        community_to_id[target_community] = target_community_id\n",
    "        G.add_node(target_community_id, name=target_community)\n",
    "    \n",
    "    # Add edge and set sentiment attribute\n",
    "    G.add_edge(source_community_id, target_community_id, sentiment=sentiment)\n",
    "\n",
    "# Print the total number of nodes and edges\n",
    "print(\"Total Nodes:\", G.number_of_nodes())\n",
    "print(\"Total Edges:\", G.number_of_edges())\n"
   ]
  },
  {
   "cell_type": "code",
   "execution_count": 13,
   "id": "434e5817",
   "metadata": {
    "scrolled": true
   },
   "outputs": [
    {
     "name": "stdout",
     "output_type": "stream",
     "text": [
      "Accuracy: 0.9264739238916128\n",
      "Classification Report:\n",
      "               precision    recall  f1-score   support\n",
      "\n",
      "           0       0.00      0.00      0.00      4214\n",
      "           1       0.93      1.00      0.96     53099\n",
      "\n",
      "    accuracy                           0.93     57313\n",
      "   macro avg       0.46      0.50      0.48     57313\n",
      "weighted avg       0.86      0.93      0.89     57313\n",
      "\n"
     ]
    },
    {
     "name": "stderr",
     "output_type": "stream",
     "text": [
      "C:\\Users\\Anika\\anaconda3\\lib\\site-packages\\sklearn\\metrics\\_classification.py:1327: UndefinedMetricWarning: Precision and F-score are ill-defined and being set to 0.0 in labels with no predicted samples. Use `zero_division` parameter to control this behavior.\n",
      "  _warn_prf(average, modifier, msg_start, len(result))\n",
      "C:\\Users\\Anika\\anaconda3\\lib\\site-packages\\sklearn\\metrics\\_classification.py:1327: UndefinedMetricWarning: Precision and F-score are ill-defined and being set to 0.0 in labels with no predicted samples. Use `zero_division` parameter to control this behavior.\n",
      "  _warn_prf(average, modifier, msg_start, len(result))\n",
      "C:\\Users\\Anika\\anaconda3\\lib\\site-packages\\sklearn\\metrics\\_classification.py:1327: UndefinedMetricWarning: Precision and F-score are ill-defined and being set to 0.0 in labels with no predicted samples. Use `zero_division` parameter to control this behavior.\n",
      "  _warn_prf(average, modifier, msg_start, len(result))\n"
     ]
    }
   ],
   "source": [
    "import pandas as pd\n",
    "import networkx as nx\n",
    "from sklearn.model_selection import train_test_split\n",
    "from sklearn.preprocessing import StandardScaler\n",
    "from sklearn.ensemble import RandomForetClassifier\n",
    "from sklearn.metrics import accuracy_score, classification_report\n",
    "from imblearn.over_sampling import RandomOverSampler\n",
    "from imblearn.pipeline import make_pipeline\n",
    "\n",
    "\n",
    "# Extract positive and negative edges\n",
    "positive_edges = [(source, target) for source, target, sentiment in G.edges(data='sentiment') if sentiment == 1]\n",
    "negative_edges = [(source, target) for source, target, sentiment in G.edges(data='sentiment') if sentiment == -1]\n",
    "\n",
    "# Split the data into training and testing sets\n",
    "train_pos_edges, test_pos_edges = train_test_split(positive_edges, test_size=0.2, random_state=42)\n",
    "train_neg_edges, test_neg_edges = train_test_split(negative_edges, test_size=0.2, random_state=42)\n",
    "\n",
    "# Create a simple graph for Jaccard coefficient calculation\n",
    "G_simple = nx.Graph(G)\n",
    "\n",
    "# Calculate Jaccard coefficients for training set\n",
    "jaccard_train_pos = [list(nx.jaccard_coefficient(G_simple, [(u, v)]))[0] for u, v in train_pos_edges]\n",
    "jaccard_train_neg = [list(nx.jaccard_coefficient(G_simple, [(u, v)]))[0] for u, v in train_neg_edges]\n",
    "\n",
    "# Create features and labels for training\n",
    "X_train = jaccard_train_pos + jaccard_train_neg\n",
    "y_train = [1] * len(jaccard_train_pos) + [0] * len(jaccard_train_neg)\n",
    "\n",
    "# Calculate class weights\n",
    "class_weights = {0: 4, 1: 1}\n",
    "\n",
    "# Create and train the classifier using a pipeline with class weights\n",
    "classifier = make_pipeline(\n",
    "    StandardScaler(),\n",
    "    RandomOverSampler(random_state=42),\n",
    "    RandomForestClassifier(class_weight=dict(zip(np.unique(y_train), class_weights)), random_state=42)\n",
    ")\n",
    "\n",
    "classifier.fit(X_train, y_train)\n",
    "\n",
    "# Calculate Jaccard coefficients for testing set\n",
    "jaccard_test_pos = [list(nx.jaccard_coefficient(G_simple, [(u, v)]))[0] for u, v in test_pos_edges]\n",
    "jaccard_test_neg = [list(nx.jaccard_coefficient(G_simple, [(u, v)]))[0] for u, v in test_neg_edges]\n",
    "\n",
    "# Create features and labels for testing\n",
    "X_test = jaccard_test_pos + jaccard_test_neg\n",
    "y_test = [1] * len(jaccard_test_pos) + [0] * len(jaccard_test_neg)\n",
    "\n",
    "# Predict and evaluate the model\n",
    "y_pred = classifier.predict(X_test)\n",
    "accuracy = accuracy_score(y_test, y_pred)\n",
    "report = classification_report(y_test, y_pred)\n",
    "\n",
    "print(\"Accuracy:\", accuracy)\n",
    "print(\"Classification Report:\\n\", report)"
   ]
  },
  {
   "cell_type": "code",
   "execution_count": null,
   "id": "9901e59d",
   "metadata": {},
   "outputs": [],
   "source": [
    "pip install imbalanced-learn\n"
   ]
  },
  {
   "cell_type": "code",
   "execution_count": 10,
   "id": "cded3975",
   "metadata": {},
   "outputs": [
    {
     "name": "stdout",
     "output_type": "stream",
     "text": [
      "Accuracy: 0.9264739238916128\n",
      "Classification Report:\n",
      "               precision    recall  f1-score   support\n",
      "\n",
      "           0       0.00      0.00      0.00      4214\n",
      "           1       0.93      1.00      0.96     53099\n",
      "\n",
      "    accuracy                           0.93     57313\n",
      "   macro avg       0.46      0.50      0.48     57313\n",
      "weighted avg       0.86      0.93      0.89     57313\n",
      "\n"
     ]
    },
    {
     "name": "stderr",
     "output_type": "stream",
     "text": [
      "C:\\Users\\Anika\\anaconda3\\lib\\site-packages\\sklearn\\metrics\\_classification.py:1327: UndefinedMetricWarning: Precision and F-score are ill-defined and being set to 0.0 in labels with no predicted samples. Use `zero_division` parameter to control this behavior.\n",
      "  _warn_prf(average, modifier, msg_start, len(result))\n",
      "C:\\Users\\Anika\\anaconda3\\lib\\site-packages\\sklearn\\metrics\\_classification.py:1327: UndefinedMetricWarning: Precision and F-score are ill-defined and being set to 0.0 in labels with no predicted samples. Use `zero_division` parameter to control this behavior.\n",
      "  _warn_prf(average, modifier, msg_start, len(result))\n",
      "C:\\Users\\Anika\\anaconda3\\lib\\site-packages\\sklearn\\metrics\\_classification.py:1327: UndefinedMetricWarning: Precision and F-score are ill-defined and being set to 0.0 in labels with no predicted samples. Use `zero_division` parameter to control this behavior.\n",
      "  _warn_prf(average, modifier, msg_start, len(result))\n"
     ]
    }
   ],
   "source": [
    "import numpy as np\n",
    "import networkx as nx\n",
    "from sklearn.model_selection import train_test_split\n",
    "from sklearn.preprocessing import StandardScaler\n",
    "from sklearn.ensemble import RandomForestClassifier\n",
    "from sklearn.metrics import accuracy_score, classification_report\n",
    "from imblearn.pipeline import make_pipeline\n",
    "\n",
    "# Extract positive and negative edges\n",
    "positive_edges = [(source, target) for source, target, sentiment in G.edges(data='sentiment') if sentiment == 1]\n",
    "negative_edges = [(source, target) for source, target, sentiment in G.edges(data='sentiment') if sentiment == -1]\n",
    "\n",
    "# Split the data into training and testing sets\n",
    "train_pos_edges, test_pos_edges = train_test_split(positive_edges, test_size=0.2, random_state=42)\n",
    "train_neg_edges, test_neg_edges = train_test_split(negative_edges, test_size=0.2, random_state=42)\n",
    "\n",
    "# Create a simple graph for Adamic/Adar similarity calculation\n",
    "G_simple = nx.Graph(G)\n",
    "\n",
    "# Calculate Adamic/Adar coefficients for training set\n",
    "adamic_train_pos = [list(nx.adamic_adar_index(G_simple, [(u, v)]))[0][2] for u, v in train_pos_edges]\n",
    "adamic_train_neg = [list(nx.adamic_adar_index(G_simple, [(u, v)]))[0][2] for u, v in train_neg_edges]\n",
    "\n",
    "# Create features and labels for training\n",
    "X_train = adamic_train_pos + adamic_train_neg\n",
    "y_train = [1] * len(adamic_train_pos) + [0] * len(adamic_train_neg)\n",
    "\n",
    "# Reshape X_train to make it 2D\n",
    "X_train = np.array(X_train).reshape(-1, 1)\n",
    "\n",
    "# Calculate class weights\n",
    "class_weights = {0: 6, 1: 1}  # Assign higher weight to the minority class (class zero)\n",
    "\n",
    "# Create and train the classifier using a pipeline with class weights\n",
    "classifier = make_pipeline(\n",
    "    StandardScaler(),\n",
    "    RandomForestClassifier(class_weight=class_weights, random_state=42)\n",
    ")\n",
    "\n",
    "classifier.fit(X_train, y_train)\n",
    "\n",
    "# Calculate Adamic/Adar coefficients for testing set\n",
    "adamic_test_pos = [list(nx.adamic_adar_index(G_simple, [(u, v)]))[0][2] for u, v in test_pos_edges]\n",
    "adamic_test_neg = [list(nx.adamic_adar_index(G_simple, [(u, v)]))[0][2] for u, v in test_neg_edges]\n",
    "\n",
    "# Create features and labels for testing\n",
    "X_test = adamic_test_pos + adamic_test_neg\n",
    "y_test = [1] * len(adamic_test_pos) + [0] * len(adamic_test_neg)\n",
    "\n",
    "# Reshape X_test to make it 2D\n",
    "X_test = np.array(X_test).reshape(-1, 1)\n",
    "\n",
    "# Predict and evaluate the model\n",
    "y_pred = classifier.predict(X_test)\n",
    "accuracy = accuracy_score(y_test, y_pred)\n",
    "report = classification_report(y_test, y_pred)\n",
    "\n",
    "print(\"Accuracy:\", accuracy)\n",
    "print(\"Classification Report:\\n\", report)"
   ]
  },
  {
   "cell_type": "code",
   "execution_count": null,
   "id": "1fdd1736",
   "metadata": {},
   "outputs": [],
   "source": []
  }
 ],
 "metadata": {
  "kernelspec": {
   "display_name": "Python 3 (ipykernel)",
   "language": "python",
   "name": "python3"
  },
  "language_info": {
   "codemirror_mode": {
    "name": "ipython",
    "version": 3
   },
   "file_extension": ".py",
   "mimetype": "text/x-python",
   "name": "python",
   "nbconvert_exporter": "python",
   "pygments_lexer": "ipython3",
   "version": "3.8.8"
  }
 },
 "nbformat": 4,
 "nbformat_minor": 5
}
