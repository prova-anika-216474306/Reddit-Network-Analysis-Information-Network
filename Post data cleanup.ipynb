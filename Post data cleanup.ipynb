{
 "cells": [
  {
   "cell_type": "code",
   "execution_count": 13,
   "id": "e6007b7d",
   "metadata": {},
   "outputs": [
    {
     "name": "stdout",
     "output_type": "stream",
     "text": [
      "Processing complete. Check 'processed_posts.txt' for the result.\n"
     ]
    }
   ],
   "source": [
    "# Read input file and process each line\n",
    "with open('post_crosslinks_info.tsv', 'r') as input_file:\n",
    "    lines = input_file.readlines()\n",
    "\n",
    "# Process each line and write to output file\n",
    "with open('your_output_file.txt', 'w') as output_file:\n",
    "    for line in lines:\n",
    "        # Split the line based on tabs\n",
    "        parts = line.split('\\t')\n",
    "        \n",
    "        # Process each part, keeping only the left-hand side of the equals sign\n",
    "        processed_parts = [part.split('=')[0] if '=' in part else part for part in parts]\n",
    "        \n",
    "        # Join the processed parts with tabs and write to the output file\n",
    "        processed_line = '\\t'.join(processed_parts)\n",
    "        output_file.write(processed_line)\n",
    "        \n",
    "with open('your_output_file.txt', 'r') as input_file:\n",
    "    lines = input_file.readlines()\n",
    "        \n",
    "with open('recent_output.txt', 'w') as output_file:\n",
    "    for line in lines:\n",
    "       processed_line = line.replace('T', ' T')\n",
    "       output_file.write(processed_line)\n",
    "\n",
    "print(\"Processing complete. Check 'processed_posts.txt' for the result.\")\n"
   ]
  },
  {
   "cell_type": "code",
   "execution_count": 2,
   "id": "ca0a7e66",
   "metadata": {},
   "outputs": [
    {
     "ename": "SyntaxError",
     "evalue": "invalid syntax (4120494899.py, line 1)",
     "output_type": "error",
     "traceback": [
      "\u001b[1;36m  Input \u001b[1;32mIn [2]\u001b[1;36m\u001b[0m\n\u001b[1;33m    leagueoflegends\tteamredditteams\t1u4nrpT2013-12-31 16:39:37=1u4nsrT2013-12-31 16:39:58\tSamwise_Gardner\t1u4lo2T2013-12-31 16:11:171u4lgiT2013-12-31 16:08:24\u001b[0m\n\u001b[1;37m                   \t^\u001b[0m\n\u001b[1;31mSyntaxError\u001b[0m\u001b[1;31m:\u001b[0m invalid syntax\n"
     ]
    }
   ],
   "source": [
    "leagueoflegends\tteamredditteams\t1u4nrpT2013-12-31 16:39:37=1u4nsrT2013-12-31 16:39:58\tSamwise_Gardner\t1u4lo2T2013-12-31 16:11:171u4lgiT2013-12-31 16:08:24"
   ]
  },
  {
   "cell_type": "code",
   "execution_count": null,
   "id": "01ab0917",
   "metadata": {},
   "outputs": [],
   "source": [
    "import networkx as nx\n",
    "\n",
    "nx_graph = nx.DiGraph()\n",
    "\n",
    "for node in graph.Nodes():\n",
    "    nx_graph.add_node(node.GetId())\n",
    "\n",
    "for edge in graph.Edges():\n",
    "    nx_graph.add_edge(edge.GetSrcNId(), edge.GetDstNId())\n",
    "\n",
    "# Subsample the graph\n",
    "# (Adjust the fraction parameter based on your graph size)\n",
    "subsampled_graph = nx_graph.subgraph(list(nx_graph.nodes())[:100])\n",
    "\n",
    "# Draw the graph\n",
    "pos = nx.spring_layout(subsampled_graph)\n",
    "plt.figure(figsize=(10, 10))\n",
    "nx.draw(subsampled_graph, pos, with_labels=True, node_size=20, font_size=8, font_color=\"black\", node_color=\"skyblue\", arrowsize=4)\n",
    "\n",
    "# Save the layout to a file\n",
    "plt.savefig(\"reddit_graph.png\")\n",
    "\n",
    "# Display the graph using IPython\n",
    "Image(\"reddit_graph.png\")"
   ]
  },
  {
   "cell_type": "code",
   "execution_count": null,
   "id": "6e53282c",
   "metadata": {},
   "outputs": [],
   "source": []
  }
 ],
 "metadata": {
  "kernelspec": {
   "display_name": "Python 3 (ipykernel)",
   "language": "python",
   "name": "python3"
  },
  "language_info": {
   "codemirror_mode": {
    "name": "ipython",
    "version": 3
   },
   "file_extension": ".py",
   "mimetype": "text/x-python",
   "name": "python",
   "nbconvert_exporter": "python",
   "pygments_lexer": "ipython3",
   "version": "3.8.8"
  }
 },
 "nbformat": 4,
 "nbformat_minor": 5
}
